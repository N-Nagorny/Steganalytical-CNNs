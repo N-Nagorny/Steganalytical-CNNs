{
 "cells": [
  {
   "cell_type": "code",
   "execution_count": null,
   "metadata": {},
   "outputs": [],
   "source": [
    "import keras\n",
    "from keras.preprocessing.image import ImageDataGenerator\n",
    "from keras.models import Sequential\n",
    "from keras.layers import Conv2D, Flatten, Dense\n",
    "from livelossplot import PlotLossesKeras\n",
    "from keras.regularizers import l2 # L2-regularisation"
   ]
  },
  {
   "cell_type": "code",
   "execution_count": null,
   "metadata": {},
   "outputs": [],
   "source": [
    "height, width = 252, 252\n",
    "batch_size = 100\n",
    "datagen = ImageDataGenerator(rescale=1./ 255, samplewise_center=True, samplewise_std_normalization=True, validation_split=0.1)\n",
    "train_generator = datagen.flow_from_directory(\n",
    "        '/home/user/Steganalysis/master-diploma/grayscale_databases/Dryuchenko-filtered',\n",
    "        batch_size=batch_size,\n",
    "        class_mode='categorical',\n",
    "        subset='training',\n",
    "        color_mode='grayscale',\n",
    "        target_size = (height, width))\n",
    "\n",
    "validation_generator = datagen.flow_from_directory(\n",
    "        '/home/user/Steganalysis/master-diploma/grayscale_databases/Dryuchenko-filtered',\n",
    "        batch_size=batch_size,\n",
    "        class_mode='categorical',\n",
    "        subset='validation',\n",
    "        color_mode='grayscale',\n",
    "        target_size = (height, width))"
   ]
  },
  {
   "cell_type": "code",
   "execution_count": null,
   "metadata": {},
   "outputs": [],
   "source": [
    "l2_lambda = 0.0001; #use 0.0001 as a L2-regularisation factor\n",
    "model = Sequential()\n",
    "model.add(Conv2D(1, 3, activation='tanh', input_shape=(height,width,1), W_regularizer=l2(l2_lambda),init='he_normal'))\n",
    "model.add(Conv2D(64, 249, activation='tanh', W_regularizer=l2(l2_lambda),init='he_normal'))\n",
    "model.add(Flatten())\n",
    "model.add(Dense(2, activation='softmax'))"
   ]
  },
  {
   "cell_type": "code",
   "execution_count": null,
   "metadata": {
    "scrolled": true
   },
   "outputs": [],
   "source": [
    "model.summary()"
   ]
  },
  {
   "cell_type": "code",
   "execution_count": null,
   "metadata": {},
   "outputs": [],
   "source": [
    "sgd = keras.optimizers.SGD(lr=0.005, momentum=0.0, decay=0.0000005, nesterov=False)\n",
    "model.compile(sgd, 'categorical_crossentropy', metrics=['categorical_accuracy'])"
   ]
  },
  {
   "cell_type": "code",
   "execution_count": null,
   "metadata": {
    "scrolled": false
   },
   "outputs": [],
   "source": [
    "history = model.fit_generator(\n",
    "        train_generator,\n",
    "        steps_per_epoch=train_generator.samples // batch_size,\n",
    "        epochs=30,\n",
    "        callbacks=[PlotLossesKeras()],\n",
    "        validation_data=validation_generator,\n",
    "        validation_steps=validation_generator.samples // batch_size,\n",
    "        verbose=1)"
   ]
  }
 ],
 "metadata": {
  "kernelspec": {
   "display_name": "Python 3",
   "language": "python",
   "name": "python3"
  },
  "language_info": {
   "codemirror_mode": {
    "name": "ipython",
    "version": 3
   },
   "file_extension": ".py",
   "mimetype": "text/x-python",
   "name": "python",
   "nbconvert_exporter": "python",
   "pygments_lexer": "ipython3",
   "version": "3.5.2"
  }
 },
 "nbformat": 4,
 "nbformat_minor": 2
}
